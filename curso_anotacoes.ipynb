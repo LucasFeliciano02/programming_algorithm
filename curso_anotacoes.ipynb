{
 "cells": [
  {
   "cell_type": "markdown",
   "metadata": {},
   "source": [
    "[Curso Video aula Youtube](https://www.youtube.com/watch?v=iF2MdbrTiBM&list=WL&index=6&t=499s)"
   ]
  },
  {
   "cell_type": "markdown",
   "metadata": {},
   "source": [
    "# Considerações\n",
    "\n",
    "Só existem 2 estados na mente de um \n",
    "programador: \n",
    "\n",
    "“mas como eu vou resolver isso???” e \n",
    "“Caramba! Era isso???!!”\n",
    "\n",
    "“Antes de existir a lógica, havia um processo... um ciclo!”\n",
    "\n",
    "\"Não reinventar a roda\"\n",
    "\n",
    "\"DIVIDIR PARA CONQUISTAR, pegar um grande problema quebrar em microproblemas e você resolve um microproblema por vez, nunca resolver um grande problema de uma vez, e então, gradativamente estará englobando o problema como um todo\"\n",
    "\n",
    "- ### Aprenda resolver problemas através da análise crítica\n",
    "\n",
    "“Tudo começa na análise, na análise crítica do problema”\n",
    "\n",
    "“Saber programar é secundário o importante é saber criar soluções bem definidas!”\n",
    "\n",
    "“Saber analisar e resolver um problema é mais importante que decorar os comandos de uma linguagem de programação!”\n",
    "\n",
    "“Quanto mais experiente se tornar, mais óbvio ficam os caminhos que levam a uma solução”\n",
    "\n",
    "“Resolver o problema antes de escrever uma linha de código!, por meio dos algoritimos, isso é:  pseudocódigo, lógica e fluxograma\"\n",
    "\n",
    "- ### Porque um software é criado?\n",
    "\n",
    "1.Para criar soluções para problemas do dia a dia\n",
    "\n",
    "2.Automação e otimização de processos\n",
    "Aula 1 - Porque um software é criado?\n",
    "devaprender.com"
   ]
  },
  {
   "cell_type": "markdown",
   "metadata": {},
   "source": [
    "----\n",
    "---"
   ]
  },
  {
   "cell_type": "markdown",
   "metadata": {},
   "source": [
    "- ### O que sao algorítimos:\n",
    "\n",
    "\"Um algoritimo é simplesmente uma série \n",
    "de instruções a serem seguidas, para \n",
    "resolver um problema.”\n",
    "\n",
    "\"Usamos sempre que queremos montar uma \n",
    "sequência de passos necessários para \n",
    "solucionar um problema\"\n",
    "\n",
    "\n",
    "- ### Método 5Q's para montar um algorítimo:\n",
    "\n",
    "Analise criticamente o problema e descubra:\n",
    "(Tente explicar este problema para você mesmo em voz alta e \n",
    "peça mais informações/investigue mais até você \n",
    "compreender completamente o problema.)\n",
    "\n",
    "1. Quais são os dados de entrada necessários?\n",
    "2. O que devo fazer com estes dados?\n",
    "3. Quais são as restrições deste problema?\n",
    "4. Qual é o resultado esperado?\n",
    "5. Qual é sequência de passos a ser feitas para chegar ao resultado esperado? -> (Faça essa parte em pseudocódigo)\n",
    "\n",
    ">AULA 5 |\n",
    "pg 45 - 70"
   ]
  },
  {
   "cell_type": "markdown",
   "metadata": {},
   "source": [
    "----\n",
    "\n"
   ]
  },
  {
   "cell_type": "markdown",
   "metadata": {},
   "source": [
    "- ### 4 Conceitos OBRIGATÓRIOS para ser capaz de resolver problemas!\n",
    "\n",
    "“Dominar estes 4 conceitos te permitirá criar algoritimos muito mais facilmente!”devaprender.com\n",
    "\n",
    "1. Variáveis\n",
    "2. Condicionais\n",
    "3. Laços de repetição\n",
    "4. Coleções\n",
    "\n",
    "\n",
    ">AULA 6 | pg 71 - 92\n"
   ]
  },
  {
   "cell_type": "markdown",
   "metadata": {},
   "source": [
    "----"
   ]
  },
  {
   "cell_type": "markdown",
   "metadata": {},
   "source": [
    "- ### Pseudocódigo:\n",
    "\n",
    "-> O pseudocódigo é uma descrição dos passos \n",
    "necessários para resolver um determinado \n",
    "problema em uma linguagem natural, que não \n",
    "está ligada diretamente a uma linguagem de \n",
    "programação\n",
    "\n",
    "-> A ideia todo do pseudocódigo é de escrever algo em uma linguagem natural que pode ser lida \n",
    "por qualquer pessoa. \n",
    "\n",
    "-> Não existe pseudocódigo perfeito\n",
    "\n",
    "-> Pseudocódigo não é uma linguagem de programação e não substitui uma linguagem de programação real\n",
    "\n",
    "-> Pseudocódigo não é padronizado, pode ser escritos de várias maneiras. Não há um padrão certo ou errado de o escrever.\n",
    "\n",
    "-> Deve ser usado apenas para criar uma lógica para resolver um problema e depois escrito em \n",
    "uma linguagem de programação real como Python, Javascript, C#, ou Java\n",
    "\n",
    ">AULA 7 | pg 93 - 137\n"
   ]
  },
  {
   "cell_type": "markdown",
   "metadata": {},
   "source": [
    "----"
   ]
  },
  {
   "cell_type": "markdown",
   "metadata": {},
   "source": [
    "- ### Fluxograma:\n",
    "\n",
    "-> uma representação visual gráfica de um algorítimo.\n",
    "\n",
    "\n",
    ">AULA 8 | pg  138 - 145"
   ]
  },
  {
   "cell_type": "markdown",
   "metadata": {},
   "source": [
    "----"
   ]
  }
 ],
 "metadata": {
  "kernelspec": {
   "display_name": "Python 3.8.8 ('base')",
   "language": "python",
   "name": "python3"
  },
  "language_info": {
   "name": "python",
   "version": "3.8.8"
  },
  "orig_nbformat": 4,
  "vscode": {
   "interpreter": {
    "hash": "ad2bdc8ecc057115af97d19610ffacc2b4e99fae6737bb82f5d7fb13d2f2c186"
   }
  }
 },
 "nbformat": 4,
 "nbformat_minor": 2
}
